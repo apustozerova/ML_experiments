{
 "cells": [
  {
   "cell_type": "code",
   "execution_count": 1,
   "metadata": {},
   "outputs": [
    {
     "name": "stderr",
     "output_type": "stream",
     "text": [
      "Using TensorFlow backend.\n"
     ]
    }
   ],
   "source": [
    "import os\n",
    "\n",
    "# if you want to use the GPU\n",
    "#device = 'gpu'\n",
    "#os.environ['THEANO_FLAGS']='mode=FAST_RUN,device=' + device + ',floatX=float32'\n",
    "\n",
    "import argparse\n",
    "import csv\n",
    "import datetime\n",
    "import glob\n",
    "import math\n",
    "import sys\n",
    "import time\n",
    "import numpy as np\n",
    "import imghdr\n",
    "\n",
    "from resizeimage import resizeimage\n",
    "from PIL import Image\n",
    "from theano import config\n",
    "from sklearn.metrics import accuracy_score\n",
    "\n",
    "import keras\n",
    "from keras.models import Sequential\n",
    "from keras.layers import Convolution2D, MaxPooling2D, Dense, Dropout, Activation, Flatten\n",
    "from keras.layers.normalization import BatchNormalization\n",
    "\n",
    "np.random.seed(1) # we initialize a random seed here to make the experiments repeatable with same results"
   ]
  },
  {
   "cell_type": "markdown",
   "metadata": {},
   "source": [
    "# Read pictures from folders to images_path and names of folders as targets\n"
   ]
  },
  {
   "cell_type": "code",
   "execution_count": 2,
   "metadata": {},
   "outputs": [],
   "source": [
    "images_path = []\n",
    "target_labels = []\n",
    "\n",
    "for root, dirs, files in os.walk(\"FIDS30\"):\n",
    "    for file in files:\n",
    "        if imghdr.what(os.path.join(root, file))=='jpeg': #only \"jpeg\" files\n",
    "            classes = root.replace(\"FIDS30/\", \"\")\n",
    "            target_labels.append(classes)\n",
    "            images_path.append(os.path.join(root, file))\n",
    "# target_labels\n"
   ]
  },
  {
   "cell_type": "code",
   "execution_count": 3,
   "metadata": {},
   "outputs": [
    {
     "name": "stdout",
     "output_type": "stream",
     "text": [
      "Found the following classes: ['acerolas', 'apples', 'apricots', 'avocados', 'bananas', 'blackberries', 'blueberries', 'cantaloupes', 'cherries', 'coconuts', 'figs', 'grapefruits', 'grapes', 'guava', 'kiwifruit', 'lemons', 'limes', 'mangos', 'olives', 'oranges', 'passionfruit', 'peaches', 'pears', 'pineapples', 'plums', 'pomegranates', 'raspberries', 'strawberries', 'tomatoes', 'watermelons']\n"
     ]
    },
    {
     "data": {
      "text/plain": [
       "30"
      ]
     },
     "execution_count": 3,
     "metadata": {},
     "output_type": "execute_result"
    }
   ],
   "source": [
    "from sklearn import preprocessing\n",
    "le = preprocessing.LabelEncoder()\n",
    "le.fit(target_labels) # this basically finds all unique class names, and assigns them to the numbers\n",
    "print(\"Found the following classes: \" + str(list(le.classes_)))\n",
    "# now we transform our labels to integers\n",
    "target = le.transform(target_labels); \n",
    "target = np.asarray(target)#target put into array\n",
    "\n",
    "nclasses = len(le.classes_)\n",
    "nclasses"
   ]
  },
  {
   "cell_type": "code",
   "execution_count": 4,
   "metadata": {},
   "outputs": [],
   "source": [
    "images = []\n",
    "\n",
    "for filename in images_path:\n",
    "    with Image.open(filename) as img:\n",
    "        img = resizeimage.resize_contain(img, [250, 150]) #reshape all the images to one frame\n",
    "        images.append(np.array(img)) # we convert the images to a Numpy array and store them in a list\n"
   ]
  },
  {
   "cell_type": "code",
   "execution_count": 5,
   "metadata": {},
   "outputs": [
    {
     "data": {
      "text/plain": [
       "(951, 150, 250, 3)"
      ]
     },
     "execution_count": 5,
     "metadata": {},
     "output_type": "execute_result"
    }
   ],
   "source": [
    "# a list of many 250x150 images is made into 1 big array\n",
    "# config.floatX is from Theano configration to enforce float32 precision (needed for GPU computation)\n",
    "img_array = np.array(images, dtype=config.floatX)\n",
    "img_array.shape"
   ]
  },
  {
   "cell_type": "markdown",
   "metadata": {},
   "source": [
    "# SPLITTING FOR TRAINING, TEST and validation SET"
   ]
  },
  {
   "cell_type": "code",
   "execution_count": 6,
   "metadata": {},
   "outputs": [
    {
     "name": "stdout",
     "output_type": "stream",
     "text": [
      "(760, 150, 250, 3) (760,)\n",
      "(191, 150, 250, 3) (191,)\n"
     ]
    }
   ],
   "source": [
    "from sklearn.model_selection import ShuffleSplit\n",
    "#shuffle all the pictures\n",
    "ss = ShuffleSplit(n_splits=1, test_size=0.2)\n",
    "random_splits = [(train_index, test_index) for train_index, test_index in ss.split(img_array)]\n",
    "\n",
    "train,test = random_splits[0]\n",
    "\n",
    "img_array_train = img_array[train]\n",
    "img_array_test = img_array[test]\n",
    "\n",
    "target_train = target[train]\n",
    "target_test = target[test]\n",
    "\n",
    "print(img_array_train.shape, target_train.shape)\n",
    "print(img_array_test.shape, target_test.shape)"
   ]
  },
  {
   "cell_type": "markdown",
   "metadata": {},
   "source": [
    "# Normalization\n"
   ]
  },
  {
   "cell_type": "code",
   "execution_count": 7,
   "metadata": {},
   "outputs": [
    {
     "name": "stdout",
     "output_type": "stream",
     "text": [
      "Training set\n",
      "mean and stdev before normalization 172.84204787134502 90.73328796357245\n",
      "after normalization 1.920046032497786e-16 1.0000000000000009\n",
      "Test set\n",
      "mean and stdev before normalization 178.41625963932518 88.82555386687314\n",
      "after normalization 4.53742092053789e-17 0.9999999999999978\n"
     ]
    }
   ],
   "source": [
    "print('Training set')\n",
    "mean_train = img_array_train.mean()\n",
    "stddev_train = img_array_train.std()\n",
    "print('mean and stdev before normalization',mean_train, stddev_train)\n",
    "\n",
    "img_array_norm_train = (img_array_train - mean_train) / stddev_train\n",
    "print('after normalization',img_array_norm_train.mean(), img_array_norm_train.std())\n",
    "\n",
    "print('Test set')\n",
    "mean_test = img_array_test.mean()\n",
    "stddev_test = img_array_test.std()\n",
    "print('mean and stdev before normalization',mean_test, stddev_test)\n",
    "\n",
    "img_array_norm_test = (img_array_test - mean_test) / stddev_test\n",
    "print('after normalization',img_array_norm_test.mean(), img_array_norm_test.std())\n"
   ]
  },
  {
   "cell_type": "code",
   "execution_count": 8,
   "metadata": {},
   "outputs": [
    {
     "name": "stdout",
     "output_type": "stream",
     "text": [
      "shape of training set after flattering (760, 112500)\n",
      "shape of test set after flattering (191, 112500)\n"
     ]
    }
   ],
   "source": [
    "\n",
    "#  flatten images to vectors\n",
    "images_flat_train = img_array_norm_train.reshape(img_array_train.shape[0],-1)\n",
    "print(\"shape of training set after flattering\",images_flat_train.shape)\n",
    "\n",
    "input_shape_train = images_flat_train.shape[1]\n",
    "\n",
    "images_flat_test = img_array_norm_test.reshape(img_array_test.shape[0],-1)\n",
    "print(\"shape of test set after flattering\",images_flat_test.shape)\n",
    "\n",
    "input_shape_test = images_flat_test.shape[1]"
   ]
  },
  {
   "cell_type": "markdown",
   "metadata": {},
   "source": [
    "# Creating model\n"
   ]
  },
  {
   "cell_type": "code",
   "execution_count": 9,
   "metadata": {},
   "outputs": [
    {
     "name": "stdout",
     "output_type": "stream",
     "text": [
      "WARNING:tensorflow:From /usr/local/lib/python3.7/site-packages/tensorflow/python/framework/op_def_library.py:263: colocate_with (from tensorflow.python.framework.ops) is deprecated and will be removed in a future version.\n",
      "Instructions for updating:\n",
      "Colocations handled automatically by placer.\n",
      "_________________________________________________________________\n",
      "Layer (type)                 Output Shape              Param #   \n",
      "=================================================================\n",
      "dense_1 (Dense)              (None, 128)               14400128  \n",
      "_________________________________________________________________\n",
      "dense_2 (Dense)              (None, 256)               33024     \n",
      "_________________________________________________________________\n",
      "dense_3 (Dense)              (None, 30)                7710      \n",
      "=================================================================\n",
      "Total params: 14,440,862\n",
      "Trainable params: 14,440,862\n",
      "Non-trainable params: 0\n",
      "_________________________________________________________________\n"
     ]
    }
   ],
   "source": [
    "# simple Fully-connected network\n",
    "\n",
    "model = Sequential()\n",
    "\n",
    "model.add(Dense(128, input_dim=input_shape_train))\n",
    "\n",
    "model.add(Dense(256,activation='relu'))\n",
    "\n",
    "model.add(Dense(nclasses,activation='softmax')) #softmsx because multyclassification and we need to check \n",
    "                                         #if probability distribution which means all output will sum to 1\n",
    "model.summary()"
   ]
  },
  {
   "cell_type": "code",
   "execution_count": 10,
   "metadata": {},
   "outputs": [],
   "source": [
    "# Define a loss function \n",
    "loss = 'sparse_categorical_crossentropy'  # for multi-class problems\n",
    "\n",
    "# Optimizer = Stochastic Gradient Descent 'sgd'\n",
    "optimizer = 'sgd' "
   ]
  },
  {
   "cell_type": "code",
   "execution_count": 11,
   "metadata": {},
   "outputs": [
    {
     "name": "stdout",
     "output_type": "stream",
     "text": [
      "WARNING:tensorflow:From /usr/local/lib/python3.7/site-packages/tensorflow/python/ops/math_ops.py:3066: to_int32 (from tensorflow.python.ops.math_ops) is deprecated and will be removed in a future version.\n",
      "Instructions for updating:\n",
      "Use tf.cast instead.\n"
     ]
    },
    {
     "name": "stderr",
     "output_type": "stream",
     "text": [
      "/usr/local/lib/python3.7/site-packages/ipykernel_launcher.py:6: DeprecationWarning: time.clock has been deprecated in Python 3.3 and will be removed from Python 3.8: use time.perf_counter or time.process_time instead\n",
      "  \n",
      "/usr/local/lib/python3.7/site-packages/ipykernel_launcher.py:7: UserWarning: The `nb_epoch` argument in `fit` has been renamed `epochs`.\n",
      "  import sys\n"
     ]
    },
    {
     "name": "stdout",
     "output_type": "stream",
     "text": [
      "Epoch 1/15\n",
      "760/760 [==============================] - 5s 6ms/step - loss: 14.3411 - acc: 0.0368\n",
      "Epoch 2/15\n",
      "760/760 [==============================] - 3s 3ms/step - loss: 14.6800 - acc: 0.0671\n",
      "Epoch 3/15\n",
      "760/760 [==============================] - 3s 3ms/step - loss: 12.7419 - acc: 0.0947\n",
      "Epoch 4/15\n",
      "760/760 [==============================] - ETA: 0s - loss: 10.0733 - acc: 0.1250 ETA: 0s - loss: 10.8088 - a - 3s 3ms/step - loss: 9.8901 - acc: 0.1237\n",
      "Epoch 5/15\n",
      "760/760 [==============================] - 3s 3ms/step - loss: 3.1866 - acc: 0.1974\n",
      "Epoch 6/15\n",
      "760/760 [==============================] - 3s 3ms/step - loss: 2.5101 - acc: 0.2829\n",
      "Epoch 7/15\n",
      "760/760 [==============================] - 3s 3ms/step - loss: 2.2801 - acc: 0.3421\n",
      "Epoch 8/15\n",
      "760/760 [==============================] - 3s 4ms/step - loss: 1.9045 - acc: 0.4316\n",
      "Epoch 9/15\n",
      "760/760 [==============================] - 3s 4ms/step - loss: 1.8596 - acc: 0.4526\n",
      "Epoch 10/15\n",
      "760/760 [==============================] - 3s 3ms/step - loss: 1.6167 - acc: 0.4855\n",
      "Epoch 11/15\n",
      "760/760 [==============================] - 3s 4ms/step - loss: 1.2900 - acc: 0.5947\n",
      "Epoch 12/15\n",
      "760/760 [==============================] - 3s 4ms/step - loss: 1.2825 - acc: 0.5829\n",
      "Epoch 13/15\n",
      "760/760 [==============================] - 3s 3ms/step - loss: 1.0733 - acc: 0.6500\n",
      "Epoch 14/15\n",
      "760/760 [==============================] - 3s 4ms/step - loss: 0.9246 - acc: 0.7105\n",
      "Epoch 15/15\n",
      "760/760 [==============================] - 3s 3ms/step - loss: 0.7311 - acc: 0.7737A: 0s - loss: 0.7370 - acc: 0.7\n",
      "time for training 97.595465\n"
     ]
    },
    {
     "name": "stderr",
     "output_type": "stream",
     "text": [
      "/usr/local/lib/python3.7/site-packages/ipykernel_launcher.py:8: DeprecationWarning: time.clock has been deprecated in Python 3.3 and will be removed from Python 3.8: use time.perf_counter or time.process_time instead\n",
      "  \n"
     ]
    }
   ],
   "source": [
    "# Compiling the model\n",
    "model.compile(loss=loss, optimizer=optimizer, metrics=['accuracy'])\n",
    "\n",
    "epochs = 15\n",
    "\n",
    "train_t1 = time.clock()\n",
    "model.fit(images_flat_train, target_train,  batch_size=32, nb_epoch=epochs)\n",
    "train_t2 = time.clock()\n",
    "print('time for training',train_t2-train_t1)"
   ]
  },
  {
   "cell_type": "code",
   "execution_count": 12,
   "metadata": {},
   "outputs": [
    {
     "data": {
      "text/plain": [
       "0.25654450261780104"
      ]
     },
     "execution_count": 12,
     "metadata": {},
     "output_type": "execute_result"
    }
   ],
   "source": [
    "predictions = model.predict_classes(images_flat_test)\n",
    "accuracy_score(target_test, predictions) \n",
    "#15"
   ]
  },
  {
   "cell_type": "markdown",
   "metadata": {},
   "source": [
    "# 5 more epochs (20 in general)"
   ]
  },
  {
   "cell_type": "code",
   "execution_count": 13,
   "metadata": {},
   "outputs": [
    {
     "name": "stderr",
     "output_type": "stream",
     "text": [
      "/usr/local/lib/python3.7/site-packages/ipykernel_launcher.py:6: DeprecationWarning: time.clock has been deprecated in Python 3.3 and will be removed from Python 3.8: use time.perf_counter or time.process_time instead\n",
      "  \n",
      "/usr/local/lib/python3.7/site-packages/ipykernel_launcher.py:7: UserWarning: The `nb_epoch` argument in `fit` has been renamed `epochs`.\n",
      "  import sys\n"
     ]
    },
    {
     "name": "stdout",
     "output_type": "stream",
     "text": [
      "Epoch 1/5\n",
      "760/760 [==============================] - 4s 5ms/step - loss: 0.5898 - acc: 0.8303\n",
      "Epoch 2/5\n",
      "760/760 [==============================] - 3s 4ms/step - loss: 0.4653 - acc: 0.8645\n",
      "Epoch 3/5\n",
      "760/760 [==============================] - 3s 4ms/step - loss: 0.3881 - acc: 0.8842\n",
      "Epoch 4/5\n",
      "760/760 [==============================] - 3s 3ms/step - loss: 0.2325 - acc: 0.9539\n",
      "Epoch 5/5\n",
      "760/760 [==============================] - 3s 4ms/step - loss: 0.2204 - acc: 0.9526\n",
      "time for training 33.289501\n"
     ]
    },
    {
     "name": "stderr",
     "output_type": "stream",
     "text": [
      "/usr/local/lib/python3.7/site-packages/ipykernel_launcher.py:8: DeprecationWarning: time.clock has been deprecated in Python 3.3 and will be removed from Python 3.8: use time.perf_counter or time.process_time instead\n",
      "  \n"
     ]
    }
   ],
   "source": [
    "# Compiling the model\n",
    "model.compile(loss=loss, optimizer=optimizer, metrics=['accuracy'])\n",
    "\n",
    "epochs = 5\n",
    "\n",
    "train_t1 = time.clock()\n",
    "model.fit(images_flat_train, target_train,  batch_size=32, nb_epoch=epochs)\n",
    "train_t2 = time.clock()\n",
    "print('time for training',train_t2-train_t1)"
   ]
  },
  {
   "cell_type": "code",
   "execution_count": 14,
   "metadata": {},
   "outputs": [
    {
     "data": {
      "text/plain": [
       "0.2931937172774869"
      ]
     },
     "execution_count": 14,
     "metadata": {},
     "output_type": "execute_result"
    }
   ],
   "source": [
    "predictions = model.predict_classes(images_flat_test)\n",
    "accuracy_score(target_test, predictions) \n",
    "\n",
    "#20"
   ]
  },
  {
   "cell_type": "markdown",
   "metadata": {},
   "source": [
    "# proceed with 5 more epochs (25in general)"
   ]
  },
  {
   "cell_type": "code",
   "execution_count": 15,
   "metadata": {},
   "outputs": [
    {
     "name": "stderr",
     "output_type": "stream",
     "text": [
      "/usr/local/lib/python3.7/site-packages/ipykernel_launcher.py:6: DeprecationWarning: time.clock has been deprecated in Python 3.3 and will be removed from Python 3.8: use time.perf_counter or time.process_time instead\n",
      "  \n",
      "/usr/local/lib/python3.7/site-packages/ipykernel_launcher.py:7: UserWarning: The `nb_epoch` argument in `fit` has been renamed `epochs`.\n",
      "  import sys\n"
     ]
    },
    {
     "name": "stdout",
     "output_type": "stream",
     "text": [
      "Epoch 1/5\n",
      "760/760 [==============================] - 3s 4ms/step - loss: 0.1587 - acc: 0.9671\n",
      "Epoch 2/5\n",
      "760/760 [==============================] - 3s 4ms/step - loss: 0.1027 - acc: 0.9855\n",
      "Epoch 3/5\n",
      "760/760 [==============================] - 3s 3ms/step - loss: 0.0759 - acc: 0.9934\n",
      "Epoch 4/5\n",
      "760/760 [==============================] - 3s 3ms/step - loss: 0.0524 - acc: 1.0000\n",
      "Epoch 5/5\n",
      "760/760 [==============================] - 3s 4ms/step - loss: 0.0399 - acc: 0.9987\n",
      "time for training 32.43788900000001\n"
     ]
    },
    {
     "name": "stderr",
     "output_type": "stream",
     "text": [
      "/usr/local/lib/python3.7/site-packages/ipykernel_launcher.py:8: DeprecationWarning: time.clock has been deprecated in Python 3.3 and will be removed from Python 3.8: use time.perf_counter or time.process_time instead\n",
      "  \n"
     ]
    }
   ],
   "source": [
    "# Compiling the model\n",
    "model.compile(loss=loss, optimizer=optimizer, metrics=['accuracy'])\n",
    "\n",
    "epochs = 5\n",
    "\n",
    "train_t1 = time.clock()\n",
    "model.fit(images_flat_train, target_train,  batch_size=32, nb_epoch=epochs)\n",
    "train_t2 = time.clock()\n",
    "print('time for training',train_t2-train_t1)"
   ]
  },
  {
   "cell_type": "code",
   "execution_count": 16,
   "metadata": {},
   "outputs": [
    {
     "data": {
      "text/plain": [
       "0.29842931937172773"
      ]
     },
     "execution_count": 16,
     "metadata": {},
     "output_type": "execute_result"
    }
   ],
   "source": [
    "predictions = model.predict_classes(images_flat_test)\n",
    "accuracy_score(target_test, predictions)\n",
    "\n",
    "#25 (a bit overfit)"
   ]
  },
  {
   "cell_type": "markdown",
   "metadata": {},
   "source": [
    "# Convolutional Neural Network"
   ]
  },
  {
   "cell_type": "code",
   "execution_count": 17,
   "metadata": {},
   "outputs": [
    {
     "data": {
      "text/plain": [
       "(150, 250, 3)"
      ]
     },
     "execution_count": 17,
     "metadata": {},
     "output_type": "execute_result"
    }
   ],
   "source": [
    "n_channels = 3 # for grey-scale, 3 for RGB, but usually already present in the data\n",
    "\n",
    "if keras.backend.image_dim_ordering() == 'th':\n",
    "    # Theano ordering (~/.keras/keras.json: \"image_dim_ordering\": \"th\")\n",
    "    train_img = img_array_train.reshape(img_array_train.shape[0], n_channels, img_array_train.shape[1], img_array_train.shape[2])\n",
    "    test_img = test_images.reshape(img_array_test.shape[0], n_channels, img_array_test.shape[1], img_array_test.shape[2])\n",
    "else:\n",
    "    # Tensorflow ordering (~/.keras/keras.json: \"image_dim_ordering\": \"tf\")\n",
    "    train_img = img_array_train.reshape(img_array_train.shape[0], img_array_train.shape[1], img_array_train.shape[2], n_channels)\n",
    "    test_img = img_array_test.reshape(img_array_test.shape[0], img_array_test.shape[1], img_array_test.shape[2], n_channels)\n",
    "    \n",
    "input_shape = train_img.shape[1:]  \n",
    "input_shape"
   ]
  },
  {
   "cell_type": "markdown",
   "metadata": {},
   "source": [
    "# Create the CNN 1 model (16-16)"
   ]
  },
  {
   "cell_type": "code",
   "execution_count": 18,
   "metadata": {},
   "outputs": [
    {
     "name": "stderr",
     "output_type": "stream",
     "text": [
      "/usr/local/lib/python3.7/site-packages/ipykernel_launcher.py:6: UserWarning: Update your `Conv2D` call to the Keras 2 API: `Conv2D(16, (3, 3), input_shape=(150, 250,..., padding=\"valid\")`\n",
      "  \n"
     ]
    },
    {
     "name": "stdout",
     "output_type": "stream",
     "text": [
      "WARNING:tensorflow:From /usr/local/lib/python3.7/site-packages/keras/backend/tensorflow_backend.py:3445: calling dropout (from tensorflow.python.ops.nn_ops) with keep_prob is deprecated and will be removed in a future version.\n",
      "Instructions for updating:\n",
      "Please use `rate` instead of `keep_prob`. Rate should be set to `rate = 1 - keep_prob`.\n",
      "_________________________________________________________________\n",
      "Layer (type)                 Output Shape              Param #   \n",
      "=================================================================\n",
      "conv2d_1 (Conv2D)            (None, 148, 248, 16)      448       \n",
      "_________________________________________________________________\n",
      "batch_normalization_1 (Batch (None, 148, 248, 16)      64        \n",
      "_________________________________________________________________\n",
      "activation_1 (Activation)    (None, 148, 248, 16)      0         \n",
      "_________________________________________________________________\n",
      "max_pooling2d_1 (MaxPooling2 (None, 74, 124, 16)       0         \n",
      "_________________________________________________________________\n",
      "dropout_1 (Dropout)          (None, 74, 124, 16)       0         \n",
      "_________________________________________________________________\n",
      "conv2d_2 (Conv2D)            (None, 72, 122, 16)       2320      \n",
      "_________________________________________________________________\n",
      "activation_2 (Activation)    (None, 72, 122, 16)       0         \n",
      "_________________________________________________________________\n",
      "dropout_2 (Dropout)          (None, 72, 122, 16)       0         \n",
      "_________________________________________________________________\n",
      "flatten_1 (Flatten)          (None, 140544)            0         \n",
      "_________________________________________________________________\n",
      "dense_4 (Dense)              (None, 256)               35979520  \n",
      "_________________________________________________________________\n",
      "activation_3 (Activation)    (None, 256)               0         \n",
      "_________________________________________________________________\n",
      "dropout_3 (Dropout)          (None, 256)               0         \n",
      "_________________________________________________________________\n",
      "dense_5 (Dense)              (None, 30)                7710      \n",
      "=================================================================\n",
      "Total params: 35,990,062\n",
      "Trainable params: 35,990,030\n",
      "Non-trainable params: 32\n",
      "_________________________________________________________________\n"
     ]
    },
    {
     "name": "stderr",
     "output_type": "stream",
     "text": [
      "/usr/local/lib/python3.7/site-packages/ipykernel_launcher.py:13: UserWarning: Update your `Conv2D` call to the Keras 2 API: `Conv2D(16, (3, 3), padding=\"valid\")`\n",
      "  del sys.path[0]\n"
     ]
    }
   ],
   "source": [
    "def createMyModel():\n",
    "    \n",
    "    model = Sequential()\n",
    "    \n",
    "    # Layer 1\n",
    "    model.add(Convolution2D(16, 3, 3, border_mode='valid', input_shape=input_shape))\n",
    "    model.add(BatchNormalization())\n",
    "    model.add(Activation('relu'))  # ReLu activation\n",
    "    model.add(MaxPooling2D(pool_size=(2, 2))) # reducing image resolution by half\n",
    "    model.add(Dropout(0.3))  # random \"deletion\" of %-portion of units in each batch\n",
    "\n",
    "    # Layer 2\n",
    "    model.add(Convolution2D(16, 3, 3, border_mode='valid'))  # input_shape is only needed in 1st layer\n",
    "    #model.add(BatchNormalization())\n",
    "    model.add(Activation('relu'))\n",
    "    #model.add(MaxPooling2D(pool_size=(2, 2)))\n",
    "    model.add(Dropout(0.3))\n",
    "\n",
    "    model.add(Flatten()) # Note: Keras does automatic shape inference.\n",
    "    \n",
    "    # Full Layer\n",
    "    model.add(Dense(256))\n",
    "    model.add(Activation('relu'))\n",
    "    model.add(Dropout(0.1))\n",
    "\n",
    "    model.add(Dense(nclasses,activation='softmax'))\n",
    "    \n",
    "    return model\n",
    "\n",
    "model = createMyModel()\n",
    "model.summary()"
   ]
  },
  {
   "cell_type": "code",
   "execution_count": 19,
   "metadata": {},
   "outputs": [],
   "source": [
    "loss = 'sparse_categorical_crossentropy'  \n",
    "optimizer = 'sgd' \n",
    "model.compile(loss=loss, optimizer=optimizer, metrics=['accuracy'])"
   ]
  },
  {
   "cell_type": "code",
   "execution_count": 20,
   "metadata": {},
   "outputs": [],
   "source": [
    "k = int(len(test_img)/2)\n",
    "validation_data = (test_img[:k], target_test[:k])\n",
    "test = test_img[k:]\n",
    "test_targ = target_test[k:]"
   ]
  },
  {
   "cell_type": "code",
   "execution_count": 21,
   "metadata": {},
   "outputs": [
    {
     "name": "stderr",
     "output_type": "stream",
     "text": [
      "/usr/local/lib/python3.7/site-packages/ipykernel_launcher.py:6: UserWarning: Update your `Conv2D` call to the Keras 2 API: `Conv2D(16, (3, 3), input_shape=(150, 250,..., padding=\"valid\")`\n",
      "  \n",
      "/usr/local/lib/python3.7/site-packages/ipykernel_launcher.py:13: UserWarning: Update your `Conv2D` call to the Keras 2 API: `Conv2D(16, (3, 3), padding=\"valid\")`\n",
      "  del sys.path[0]\n",
      "/usr/local/lib/python3.7/site-packages/ipykernel_launcher.py:6: DeprecationWarning: time.clock has been deprecated in Python 3.3 and will be removed from Python 3.8: use time.perf_counter or time.process_time instead\n",
      "  \n",
      "/usr/local/lib/python3.7/site-packages/ipykernel_launcher.py:7: UserWarning: The `nb_epoch` argument in `fit` has been renamed `epochs`.\n",
      "  import sys\n"
     ]
    },
    {
     "name": "stdout",
     "output_type": "stream",
     "text": [
      "Train on 760 samples, validate on 95 samples\n",
      "Epoch 1/15\n",
      "760/760 [==============================] - 57s 74ms/step - loss: 4.5559 - acc: 0.0658 - val_loss: 3.3287 - val_acc: 0.0632\n",
      "Epoch 2/15\n",
      "760/760 [==============================] - 67s 88ms/step - loss: 2.9445 - acc: 0.1684 - val_loss: 3.0029 - val_acc: 0.1368\n",
      "Epoch 3/15\n",
      "760/760 [==============================] - 79s 103ms/step - loss: 2.5297 - acc: 0.2276 - val_loss: 2.8475 - val_acc: 0.2211\n",
      "Epoch 4/15\n",
      "760/760 [==============================] - 45s 60ms/step - loss: 2.1918 - acc: 0.3408 - val_loss: 2.8083 - val_acc: 0.1789\n",
      "Epoch 5/15\n",
      "760/760 [==============================] - 39s 51ms/step - loss: 1.8296 - acc: 0.4474 - val_loss: 3.1034 - val_acc: 0.1684\n",
      "Epoch 6/15\n",
      "760/760 [==============================] - 39s 51ms/step - loss: 1.4958 - acc: 0.5447 - val_loss: 2.6696 - val_acc: 0.2105\n",
      "Epoch 7/15\n",
      "760/760 [==============================] - 39s 52ms/step - loss: 1.1770 - acc: 0.6500 - val_loss: 2.8287 - val_acc: 0.2000\n",
      "Epoch 8/15\n",
      "760/760 [==============================] - 37s 48ms/step - loss: 0.7607 - acc: 0.7868 - val_loss: 4.0771 - val_acc: 0.1263\n",
      "Epoch 9/15\n",
      "760/760 [==============================] - 37s 49ms/step - loss: 0.4859 - acc: 0.8553 - val_loss: 3.1722 - val_acc: 0.2000\n",
      "Epoch 10/15\n",
      "760/760 [==============================] - 38s 50ms/step - loss: 0.2472 - acc: 0.9316 - val_loss: 6.9671 - val_acc: 0.0947\n",
      "Epoch 11/15\n",
      "760/760 [==============================] - 40s 52ms/step - loss: 0.3601 - acc: 0.9184 - val_loss: 2.9190 - val_acc: 0.2842\n",
      "Epoch 12/15\n",
      "760/760 [==============================] - 40s 52ms/step - loss: 0.0863 - acc: 0.9882 - val_loss: 2.8779 - val_acc: 0.3053\n",
      "Epoch 13/15\n",
      "760/760 [==============================] - 38s 50ms/step - loss: 0.1171 - acc: 0.9671 - val_loss: 2.7879 - val_acc: 0.3684\n",
      "Epoch 14/15\n",
      "760/760 [==============================] - 44s 57ms/step - loss: 0.0727 - acc: 0.9789 - val_loss: 2.7159 - val_acc: 0.3579\n",
      "Epoch 15/15\n",
      "760/760 [==============================] - 38s 50ms/step - loss: 0.0296 - acc: 1.0000 - val_loss: 2.6913 - val_acc: 0.3579\n",
      "time for training 1600.79551\n"
     ]
    },
    {
     "name": "stderr",
     "output_type": "stream",
     "text": [
      "/usr/local/lib/python3.7/site-packages/ipykernel_launcher.py:8: DeprecationWarning: time.clock has been deprecated in Python 3.3 and will be removed from Python 3.8: use time.perf_counter or time.process_time instead\n",
      "  \n"
     ]
    }
   ],
   "source": [
    "model = createMyModel()\n",
    "model.compile(loss=loss, optimizer=optimizer, metrics=['accuracy'])\n",
    "\n",
    "epochs=15\n",
    "\n",
    "train_t1 = time.clock()\n",
    "history = model.fit(train_img, target_train, batch_size=32, nb_epoch=epochs, validation_data=validation_data)\n",
    "train_t2 = time.clock()\n",
    "print('time for training',train_t2-train_t1)\n"
   ]
  },
  {
   "cell_type": "code",
   "execution_count": 22,
   "metadata": {},
   "outputs": [
    {
     "data": {
      "text/plain": [
       "0.3020833333333333"
      ]
     },
     "execution_count": 22,
     "metadata": {},
     "output_type": "execute_result"
    }
   ],
   "source": [
    "predictions = model.predict_classes(test)\n",
    "accuracy_score(test_targ, predictions)"
   ]
  },
  {
   "cell_type": "code",
   "execution_count": 23,
   "metadata": {},
   "outputs": [
    {
     "data": {
      "text/plain": [
       "dict_keys(['val_loss', 'val_acc', 'loss', 'acc'])"
      ]
     },
     "execution_count": 23,
     "metadata": {},
     "output_type": "execute_result"
    }
   ],
   "source": [
    "hist = history.history\n",
    "hist.keys()"
   ]
  },
  {
   "cell_type": "code",
   "execution_count": 24,
   "metadata": {},
   "outputs": [
    {
     "data": {
      "text/plain": [
       "<matplotlib.legend.Legend at 0x12bc041d0>"
      ]
     },
     "execution_count": 24,
     "metadata": {},
     "output_type": "execute_result"
    },
    {
     "data": {
      "image/png": "[encoded data removed]",
      "text/plain": [
       "<Figure size 720x432 with 1 Axes>"
      ]
     },
     "metadata": {
      "needs_background": "light"
     },
     "output_type": "display_data"
    }
   ],
   "source": [
    "# this will only work if you have matplotlib installed\n",
    "\n",
    "import matplotlib.pyplot as plt\n",
    "%matplotlib inline \n",
    "\n",
    "colors = {'loss':'r', 'acc':'b', 'val_loss':'m', 'val_acc':'g'}\n",
    "plt.figure(figsize=(10,6))\n",
    "plt.title(\"Training Curve\") \n",
    "plt.xlabel(\"Epoch\")\n",
    "\n",
    "for measure in hist.keys():\n",
    "    color = colors[measure]\n",
    "    plt.plot(range(1,epochs+1), hist[measure], color + '-', label=measure)  # use last 2 values to draw line\n",
    "\n",
    "plt.legend(loc='upper left', scatterpoints = 1, frameon=False)"
   ]
  },
  {
   "cell_type": "markdown",
   "metadata": {},
   "source": [
    "# Data Augmentation"
   ]
  },
  {
   "cell_type": "code",
   "execution_count": 25,
   "metadata": {},
   "outputs": [],
   "source": [
    "from keras.preprocessing.image import ImageDataGenerator\n",
    "\n",
    "datagen = ImageDataGenerator(\n",
    "    rotation_range=20,\n",
    "    width_shift_range=0.2,\n",
    "    height_shift_range=0.2,\n",
    "    zoom_range=0.2,\n",
    "    horizontal_flip=True)\n"
   ]
  },
  {
   "cell_type": "code",
   "execution_count": 26,
   "metadata": {},
   "outputs": [],
   "source": [
    "classes_array = np.array(target_train)\n",
    "np.random.seed(0)"
   ]
  },
  {
   "cell_type": "markdown",
   "metadata": {},
   "source": [
    "Proceeding training of above CNN by adding results on augmented data"
   ]
  },
  {
   "cell_type": "code",
   "execution_count": 27,
   "metadata": {},
   "outputs": [
    {
     "name": "stderr",
     "output_type": "stream",
     "text": [
      "/usr/local/lib/python3.7/site-packages/ipykernel_launcher.py:6: DeprecationWarning: time.clock has been deprecated in Python 3.3 and will be removed from Python 3.8: use time.perf_counter or time.process_time instead\n",
      "  \n",
      "/usr/local/lib/python3.7/site-packages/ipykernel_launcher.py:9: UserWarning: The semantics of the Keras 2 argument `steps_per_epoch` is not the same as the Keras 1 argument `samples_per_epoch`. `steps_per_epoch` is the number of batches to draw from the generator at each epoch. Basically steps_per_epoch = samples_per_epoch/batch_size. Similarly `nb_val_samples`->`validation_steps` and `val_samples`->`steps` arguments have changed. Update your method calls accordingly.\n",
      "  if __name__ == '__main__':\n",
      "/usr/local/lib/python3.7/site-packages/ipykernel_launcher.py:9: UserWarning: Update your `fit_generator` call to the Keras 2 API: `fit_generator(<keras_pre..., validation_data=(array([[[..., steps_per_epoch=23, epochs=15)`\n",
      "  if __name__ == '__main__':\n"
     ]
    },
    {
     "name": "stdout",
     "output_type": "stream",
     "text": [
      "Epoch 1/15\n",
      "23/23 [==============================] - 37s 2s/step - loss: 2.8838 - acc: 0.1821 - val_loss: 3.8367 - val_acc: 0.0737\n",
      "Epoch 2/15\n",
      "23/23 [==============================] - 37s 2s/step - loss: 2.3974 - acc: 0.2735 - val_loss: 3.2386 - val_acc: 0.0842\n",
      "Epoch 3/15\n",
      "23/23 [==============================] - 37s 2s/step - loss: 2.3530 - acc: 0.2672 - val_loss: 3.1280 - val_acc: 0.1368\n",
      "Epoch 4/15\n",
      "23/23 [==============================] - 35s 2s/step - loss: 2.3305 - acc: 0.2826 - val_loss: 2.1767 - val_acc: 0.3158\n",
      "Epoch 5/15\n",
      "23/23 [==============================] - 35s 2s/step - loss: 2.0999 - acc: 0.3424 - val_loss: 2.1000 - val_acc: 0.3579\n",
      "Epoch 6/15\n",
      "23/23 [==============================] - 49s 2s/step - loss: 2.1584 - acc: 0.3246 - val_loss: 2.4066 - val_acc: 0.2737\n",
      "Epoch 7/15\n",
      "23/23 [==============================] - 46s 2s/step - loss: 2.1026 - acc: 0.3351 - val_loss: 2.0070 - val_acc: 0.3895\n",
      "Epoch 8/15\n",
      "23/23 [==============================] - 46s 2s/step - loss: 2.0381 - acc: 0.3360 - val_loss: 2.2667 - val_acc: 0.3158\n",
      "Epoch 9/15\n",
      "23/23 [==============================] - 46s 2s/step - loss: 1.9834 - acc: 0.3637 - val_loss: 2.0292 - val_acc: 0.3579\n",
      "Epoch 10/15\n",
      "23/23 [==============================] - 45s 2s/step - loss: 1.9932 - acc: 0.3560 - val_loss: 2.0726 - val_acc: 0.3579\n",
      "Epoch 11/15\n",
      "23/23 [==============================] - 44s 2s/step - loss: 1.9595 - acc: 0.3442 - val_loss: 2.1808 - val_acc: 0.3474\n",
      "Epoch 12/15\n",
      "23/23 [==============================] - 45s 2s/step - loss: 1.9326 - acc: 0.3868 - val_loss: 1.8508 - val_acc: 0.4632\n",
      "Epoch 13/15\n",
      "23/23 [==============================] - 50s 2s/step - loss: 1.9378 - acc: 0.3741 - val_loss: 1.8613 - val_acc: 0.4421\n",
      "Epoch 14/15\n",
      "23/23 [==============================] - 41s 2s/step - loss: 1.8114 - acc: 0.3841 - val_loss: 2.0614 - val_acc: 0.3895\n",
      "Epoch 15/15\n",
      "23/23 [==============================] - 40s 2s/step - loss: 1.9264 - acc: 0.3890 - val_loss: 2.3133 - val_acc: 0.3474\n",
      "time for training 1690.338002\n"
     ]
    },
    {
     "name": "stderr",
     "output_type": "stream",
     "text": [
      "/usr/local/lib/python3.7/site-packages/ipykernel_launcher.py:10: DeprecationWarning: time.clock has been deprecated in Python 3.3 and will be removed from Python 3.8: use time.perf_counter or time.process_time instead\n",
      "  # Remove the CWD from sys.path while we load stuff.\n"
     ]
    }
   ],
   "source": [
    "\n",
    "\n",
    "# fits the model on batches with real-time data augmentation:\n",
    "train_t1 = time.clock()\n",
    "history = model.fit_generator(datagen.flow(train_img, classes_array, batch_size=32),\n",
    "                    samples_per_epoch=len(train_img), nb_epoch=15,\n",
    "                    validation_data=validation_data)\n",
    "train_t2 = time.clock()\n",
    "print('time for training',train_t2-train_t1)"
   ]
  },
  {
   "cell_type": "code",
   "execution_count": 28,
   "metadata": {},
   "outputs": [
    {
     "data": {
      "text/plain": [
       "0.4166666666666667"
      ]
     },
     "execution_count": 28,
     "metadata": {},
     "output_type": "execute_result"
    }
   ],
   "source": [
    "predictions = model.predict_classes(test)\n",
    "accuracy_score(test_targ, predictions)\n",
    "\n",
    "#CNN trained with simple data and then additionaly trained with augmented data"
   ]
  },
  {
   "cell_type": "markdown",
   "metadata": {},
   "source": [
    "# augmented data only"
   ]
  },
  {
   "cell_type": "code",
   "execution_count": 29,
   "metadata": {},
   "outputs": [
    {
     "name": "stderr",
     "output_type": "stream",
     "text": [
      "/usr/local/lib/python3.7/site-packages/ipykernel_launcher.py:6: UserWarning: Update your `Conv2D` call to the Keras 2 API: `Conv2D(16, (3, 3), input_shape=(150, 250,..., padding=\"valid\")`\n",
      "  \n",
      "/usr/local/lib/python3.7/site-packages/ipykernel_launcher.py:13: UserWarning: Update your `Conv2D` call to the Keras 2 API: `Conv2D(16, (3, 3), padding=\"valid\")`\n",
      "  del sys.path[0]\n",
      "/usr/local/lib/python3.7/site-packages/ipykernel_launcher.py:6: DeprecationWarning: time.clock has been deprecated in Python 3.3 and will be removed from Python 3.8: use time.perf_counter or time.process_time instead\n",
      "  \n",
      "/usr/local/lib/python3.7/site-packages/ipykernel_launcher.py:9: UserWarning: The semantics of the Keras 2 argument `steps_per_epoch` is not the same as the Keras 1 argument `samples_per_epoch`. `steps_per_epoch` is the number of batches to draw from the generator at each epoch. Basically steps_per_epoch = samples_per_epoch/batch_size. Similarly `nb_val_samples`->`validation_steps` and `val_samples`->`steps` arguments have changed. Update your method calls accordingly.\n",
      "  if __name__ == '__main__':\n",
      "/usr/local/lib/python3.7/site-packages/ipykernel_launcher.py:9: UserWarning: Update your `fit_generator` call to the Keras 2 API: `fit_generator(<keras_pre..., validation_data=(array([[[..., steps_per_epoch=23, epochs=15)`\n",
      "  if __name__ == '__main__':\n"
     ]
    },
    {
     "name": "stdout",
     "output_type": "stream",
     "text": [
      "Epoch 1/15\n",
      "23/23 [==============================] - 46s 2s/step - loss: 4.0608 - acc: 0.0666 - val_loss: 3.2256 - val_acc: 0.0842\n",
      "Epoch 2/15\n",
      "23/23 [==============================] - 50s 2s/step - loss: 3.1389 - acc: 0.0888 - val_loss: 3.0452 - val_acc: 0.1263\n",
      "Epoch 3/15\n",
      "23/23 [==============================] - 47s 2s/step - loss: 2.9523 - acc: 0.1450 - val_loss: 3.0505 - val_acc: 0.1474\n",
      "Epoch 4/15\n",
      "23/23 [==============================] - 43s 2s/step - loss: 2.8123 - acc: 0.1531 - val_loss: 2.8984 - val_acc: 0.1474\n",
      "Epoch 5/15\n",
      "23/23 [==============================] - 39s 2s/step - loss: 2.6911 - acc: 0.1735 - val_loss: 2.8286 - val_acc: 0.1474\n",
      "Epoch 6/15\n",
      "23/23 [==============================] - 40s 2s/step - loss: 2.5580 - acc: 0.2360 - val_loss: 3.1805 - val_acc: 0.1263\n",
      "Epoch 7/15\n",
      "23/23 [==============================] - 38s 2s/step - loss: 2.4981 - acc: 0.2142 - val_loss: 2.7932 - val_acc: 0.1789\n",
      "Epoch 8/15\n",
      "23/23 [==============================] - 39s 2s/step - loss: 2.4075 - acc: 0.2473 - val_loss: 2.4349 - val_acc: 0.2105\n",
      "Epoch 9/15\n",
      "23/23 [==============================] - 40s 2s/step - loss: 2.3739 - acc: 0.2473 - val_loss: 2.3433 - val_acc: 0.2737\n",
      "Epoch 10/15\n",
      "23/23 [==============================] - 39s 2s/step - loss: 2.3011 - acc: 0.2781 - val_loss: 2.4535 - val_acc: 0.3158\n",
      "Epoch 11/15\n",
      "23/23 [==============================] - 40s 2s/step - loss: 2.2793 - acc: 0.2881 - val_loss: 2.3395 - val_acc: 0.2421\n",
      "Epoch 12/15\n",
      "23/23 [==============================] - 40s 2s/step - loss: 2.2710 - acc: 0.2962 - val_loss: 2.3764 - val_acc: 0.2526\n",
      "Epoch 13/15\n",
      "23/23 [==============================] - 39s 2s/step - loss: 2.2086 - acc: 0.2831 - val_loss: 2.7300 - val_acc: 0.1579\n",
      "Epoch 14/15\n",
      "23/23 [==============================] - 40s 2s/step - loss: 2.3518 - acc: 0.2501 - val_loss: 2.2881 - val_acc: 0.2632\n",
      "Epoch 15/15\n",
      "23/23 [==============================] - 40s 2s/step - loss: 2.0956 - acc: 0.3248 - val_loss: 2.5877 - val_acc: 0.2316\n",
      "time for training 1731.3568070000001\n"
     ]
    },
    {
     "name": "stderr",
     "output_type": "stream",
     "text": [
      "/usr/local/lib/python3.7/site-packages/ipykernel_launcher.py:10: DeprecationWarning: time.clock has been deprecated in Python 3.3 and will be removed from Python 3.8: use time.perf_counter or time.process_time instead\n",
      "  # Remove the CWD from sys.path while we load stuff.\n"
     ]
    }
   ],
   "source": [
    "# # recreate and recompile the model (otherwise we continue learning)\n",
    "model = createMyModel()\n",
    "model.compile(loss=loss, optimizer=optimizer, metrics=['accuracy'])\n",
    "\n",
    "# fits the model on batches with real-time data augmentation:\n",
    "train_t1 = time.clock()\n",
    "history = model.fit_generator(datagen.flow(train_img, classes_array, batch_size=32),\n",
    "                    samples_per_epoch=len(train_img), nb_epoch=epochs,\n",
    "                    validation_data=validation_data)\n",
    "train_t2 = time.clock()\n",
    "print('time for training',train_t2-train_t1)"
   ]
  },
  {
   "cell_type": "code",
   "execution_count": 30,
   "metadata": {},
   "outputs": [
    {
     "data": {
      "text/plain": [
       "0.2708333333333333"
      ]
     },
     "execution_count": 30,
     "metadata": {},
     "output_type": "execute_result"
    }
   ],
   "source": [
    "predictions = model.predict_classes(test)\n",
    "accuracy_score(test_targ, predictions)"
   ]
  },
  {
   "cell_type": "code",
   "execution_count": 31,
   "metadata": {},
   "outputs": [
    {
     "data": {
      "text/plain": [
       "<matplotlib.legend.Legend at 0x12d250208>"
      ]
     },
     "execution_count": 31,
     "metadata": {},
     "output_type": "execute_result"
    },
    {
     "data": {
      "image/png": "[encoded data removed]",
      "text/plain": [
       "<Figure size 720x432 with 1 Axes>"
      ]
     },
     "metadata": {
      "needs_background": "light"
     },
     "output_type": "display_data"
    }
   ],
   "source": [
    "hist = history.history\n",
    "\n",
    "plt.figure(figsize=(10,6))\n",
    "plt.title(\"Training Curve\") \n",
    "plt.xlabel(\"Epoch\")\n",
    "\n",
    "for measure in hist.keys():\n",
    "    color = colors[measure]\n",
    "    plt.plot(range(1,epochs+1), hist[measure], color + '-', label=measure)  # use last 2 values to draw line\n",
    "\n",
    "plt.legend(loc='upper left', scatterpoints = 1, frameon=False)"
   ]
  },
  {
   "cell_type": "markdown",
   "metadata": {},
   "source": [
    "# Number of chanels 32-64"
   ]
  },
  {
   "cell_type": "code",
   "execution_count": 78,
   "metadata": {},
   "outputs": [],
   "source": [
    "def createMyModel():\n",
    "    \n",
    "    model = Sequential()\n",
    "    \n",
    "    # Layer 1\n",
    "    model.add(Convolution2D(32, 3, 3, border_mode='valid', input_shape=input_shape))\n",
    "    model.add(BatchNormalization())\n",
    "    model.add(Activation('relu'))  # ReLu activation\n",
    "    model.add(MaxPooling2D(pool_size=(2, 2))) # reducing image resolution by half\n",
    "    model.add(Dropout(0.3))  # random \"deletion\" of %-portion of units in each batch\n",
    "\n",
    "    # Layer 2\n",
    "    model.add(Convolution2D(64, 3, 3, border_mode='valid'))  # input_shape is only needed in 1st layer\n",
    "    #model.add(BatchNormalization())\n",
    "    model.add(Activation('relu'))\n",
    "    #model.add(MaxPooling2D(pool_size=(2, 2)))\n",
    "    model.add(Dropout(0.3))\n",
    "\n",
    "    model.add(Flatten()) # Note: Keras does automatic shape inference.\n",
    "    \n",
    "    # Full Layer\n",
    "    model.add(Dense(256))\n",
    "    model.add(Activation('relu'))\n",
    "    model.add(Dropout(0.1))\n",
    "\n",
    "    model.add(Dense(nclasses,activation='softmax'))\n",
    "    \n",
    "    return model"
   ]
  },
  {
   "cell_type": "code",
   "execution_count": 79,
   "metadata": {},
   "outputs": [
    {
     "name": "stderr",
     "output_type": "stream",
     "text": [
      "/usr/local/lib/python3.7/site-packages/ipykernel_launcher.py:6: UserWarning: Update your `Conv2D` call to the Keras 2 API: `Conv2D(32, (3, 3), input_shape=(150, 250,..., padding=\"valid\")`\n",
      "  \n"
     ]
    },
    {
     "name": "stdout",
     "output_type": "stream",
     "text": [
      "_________________________________________________________________\n",
      "Layer (type)                 Output Shape              Param #   \n",
      "=================================================================\n",
      "conv2d_35 (Conv2D)           (None, 148, 248, 32)      896       \n",
      "_________________________________________________________________\n",
      "batch_normalization_17 (Batc (None, 148, 248, 32)      128       \n",
      "_________________________________________________________________\n",
      "activation_51 (Activation)   (None, 148, 248, 32)      0         \n",
      "_________________________________________________________________\n",
      "max_pooling2d_17 (MaxPooling (None, 74, 124, 32)       0         \n",
      "_________________________________________________________________\n",
      "dropout_51 (Dropout)         (None, 74, 124, 32)       0         \n",
      "_________________________________________________________________\n",
      "conv2d_36 (Conv2D)           (None, 72, 122, 64)       18496     \n",
      "_________________________________________________________________\n",
      "activation_52 (Activation)   (None, 72, 122, 64)       0         \n",
      "_________________________________________________________________\n",
      "dropout_52 (Dropout)         (None, 72, 122, 64)       0         \n",
      "_________________________________________________________________\n",
      "flatten_17 (Flatten)         (None, 562176)            0         \n",
      "_________________________________________________________________\n",
      "dense_36 (Dense)             (None, 256)               143917312 \n",
      "_________________________________________________________________\n",
      "activation_53 (Activation)   (None, 256)               0         \n",
      "_________________________________________________________________\n",
      "dropout_53 (Dropout)         (None, 256)               0         \n",
      "_________________________________________________________________\n",
      "dense_37 (Dense)             (None, 30)                7710      \n",
      "=================================================================\n",
      "Total params: 143,944,542\n",
      "Trainable params: 143,944,478\n",
      "Non-trainable params: 64\n",
      "_________________________________________________________________\n"
     ]
    },
    {
     "name": "stderr",
     "output_type": "stream",
     "text": [
      "/usr/local/lib/python3.7/site-packages/ipykernel_launcher.py:13: UserWarning: Update your `Conv2D` call to the Keras 2 API: `Conv2D(64, (3, 3), padding=\"valid\")`\n",
      "  del sys.path[0]\n"
     ]
    }
   ],
   "source": [
    "model = createMyModel()\n",
    "model.summary()"
   ]
  },
  {
   "cell_type": "code",
   "execution_count": 52,
   "metadata": {},
   "outputs": [
    {
     "name": "stderr",
     "output_type": "stream",
     "text": [
      "/usr/local/lib/python3.7/site-packages/ipykernel_launcher.py:8: DeprecationWarning: time.clock has been deprecated in Python 3.3 and will be removed from Python 3.8: use time.perf_counter or time.process_time instead\n",
      "  \n",
      "/usr/local/lib/python3.7/site-packages/ipykernel_launcher.py:9: UserWarning: The `nb_epoch` argument in `fit` has been renamed `epochs`.\n",
      "  if __name__ == '__main__':\n"
     ]
    },
    {
     "name": "stdout",
     "output_type": "stream",
     "text": [
      "Train on 760 samples, validate on 191 samples\n",
      "Epoch 1/15\n",
      "760/760 [==============================] - 118s 156ms/step - loss: 7.6064 - acc: 0.0553 - val_loss: 3.3207 - val_acc: 0.0890\n",
      "Epoch 2/15\n",
      "760/760 [==============================] - 108s 143ms/step - loss: 3.0139 - acc: 0.1632 - val_loss: 3.1643 - val_acc: 0.1309\n",
      "Epoch 3/15\n",
      "760/760 [==============================] - 104s 136ms/step - loss: 2.5108 - acc: 0.2474 - val_loss: 2.6986 - val_acc: 0.2042\n",
      "Epoch 4/15\n",
      "760/760 [==============================] - 101s 133ms/step - loss: 1.9573 - acc: 0.4395 - val_loss: 2.7785 - val_acc: 0.2094\n",
      "Epoch 5/15\n",
      "760/760 [==============================] - 99s 130ms/step - loss: 1.5602 - acc: 0.5421 - val_loss: 2.4665 - val_acc: 0.2984\n",
      "Epoch 6/15\n",
      "760/760 [==============================] - 97s 128ms/step - loss: 1.0258 - acc: 0.7053 - val_loss: 3.1289 - val_acc: 0.2199\n",
      "Epoch 7/15\n",
      "760/760 [==============================] - 100s 132ms/step - loss: 0.5384 - acc: 0.8645 - val_loss: 2.6828 - val_acc: 0.2565\n",
      "Epoch 8/15\n",
      "760/760 [==============================] - 104s 137ms/step - loss: 0.3243 - acc: 0.9197 - val_loss: 2.3397 - val_acc: 0.3246\n",
      "Epoch 9/15\n",
      "760/760 [==============================] - 96s 126ms/step - loss: 0.0959 - acc: 0.9803 - val_loss: 2.2901 - val_acc: 0.3455\n",
      "Epoch 10/15\n",
      "760/760 [==============================] - 110s 145ms/step - loss: 0.0875 - acc: 0.9868 - val_loss: 2.4067 - val_acc: 0.3351\n",
      "Epoch 11/15\n",
      "760/760 [==============================] - 98s 129ms/step - loss: 0.0397 - acc: 0.9934 - val_loss: 2.3776 - val_acc: 0.3613\n",
      "Epoch 12/15\n",
      "760/760 [==============================] - 128s 169ms/step - loss: 0.0249 - acc: 1.0000 - val_loss: 2.4933 - val_acc: 0.3770\n",
      "Epoch 13/15\n",
      "760/760 [==============================] - 100s 131ms/step - loss: 0.0187 - acc: 0.9987 - val_loss: 2.6281 - val_acc: 0.3351\n",
      "Epoch 14/15\n",
      "760/760 [==============================] - 96s 126ms/step - loss: 0.0164 - acc: 0.9987 - val_loss: 2.4343 - val_acc: 0.3717\n",
      "Epoch 15/15\n",
      "760/760 [==============================] - 102s 135ms/step - loss: 0.0111 - acc: 1.0000 - val_loss: 2.4924 - val_acc: 0.3508\n",
      "time for training 4716.553452\n"
     ]
    },
    {
     "name": "stderr",
     "output_type": "stream",
     "text": [
      "/usr/local/lib/python3.7/site-packages/ipykernel_launcher.py:10: DeprecationWarning: time.clock has been deprecated in Python 3.3 and will be removed from Python 3.8: use time.perf_counter or time.process_time instead\n",
      "  # Remove the CWD from sys.path while we load stuff.\n"
     ]
    }
   ],
   "source": [
    "# recreate and recompile the model (otherwise we continue learning)\n",
    "model.compile(loss=loss, optimizer=optimizer, metrics=['accuracy'])\n",
    "\n",
    "# show result on Test Data while training \n",
    "# we use test data as validation data to see direct results (usually NOT RECOMMENDED due to overfitting to the problem!)\n",
    "validation_data = (test_img, target_test)\n",
    "\n",
    "train_t1 = time.clock()\n",
    "history = model.fit(train_img, target_train, batch_size=32, nb_epoch=epochs, validation_data=validation_data)\n",
    "train_t2 = time.clock()\n",
    "print('time for training',train_t2-train_t1)\n"
   ]
  },
  {
   "cell_type": "code",
   "execution_count": 53,
   "metadata": {},
   "outputs": [
    {
     "data": {
      "text/plain": [
       "<matplotlib.legend.Legend at 0x133791f98>"
      ]
     },
     "execution_count": 53,
     "metadata": {},
     "output_type": "execute_result"
    },
    {
     "data": {
      "image/png": "[encoded data removed]",
      "text/plain": [
       "<Figure size 720x432 with 1 Axes>"
      ]
     },
     "metadata": {
      "needs_background": "light"
     },
     "output_type": "display_data"
    }
   ],
   "source": [
    "hist = history.history\n",
    "\n",
    "plt.figure(figsize=(10,6))\n",
    "plt.title(\"Training Curve\") \n",
    "plt.xlabel(\"Epoch\")\n",
    "\n",
    "for measure in hist.keys():\n",
    "    color = colors[measure]\n",
    "    plt.plot(range(1,epochs+1), hist[measure], color + '-', label=measure)  # use last 2 values to draw line\n",
    "\n",
    "plt.legend(loc='upper left', scatterpoints = 1, frameon=False)"
   ]
  },
  {
   "cell_type": "code",
   "execution_count": 43,
   "metadata": {},
   "outputs": [
    {
     "name": "stderr",
     "output_type": "stream",
     "text": [
      "/usr/local/lib/python3.7/site-packages/ipykernel_launcher.py:2: DeprecationWarning: time.clock has been deprecated in Python 3.3 and will be removed from Python 3.8: use time.perf_counter or time.process_time instead\n",
      "  \n",
      "/usr/local/lib/python3.7/site-packages/ipykernel_launcher.py:5: UserWarning: The semantics of the Keras 2 argument `steps_per_epoch` is not the same as the Keras 1 argument `samples_per_epoch`. `steps_per_epoch` is the number of batches to draw from the generator at each epoch. Basically steps_per_epoch = samples_per_epoch/batch_size. Similarly `nb_val_samples`->`validation_steps` and `val_samples`->`steps` arguments have changed. Update your method calls accordingly.\n",
      "  \"\"\"\n",
      "/usr/local/lib/python3.7/site-packages/ipykernel_launcher.py:5: UserWarning: Update your `fit_generator` call to the Keras 2 API: `fit_generator(<keras_pre..., validation_data=(array([[[..., steps_per_epoch=23, epochs=15)`\n",
      "  \"\"\"\n"
     ]
    },
    {
     "name": "stdout",
     "output_type": "stream",
     "text": [
      "Epoch 1/15\n",
      "23/23 [==============================] - 135s 6s/step - loss: 3.1948 - acc: 0.1984 - val_loss: 7.3803 - val_acc: 0.0890\n",
      "Epoch 2/15\n",
      "23/23 [==============================] - 123s 5s/step - loss: 2.4626 - acc: 0.2609 - val_loss: 3.2324 - val_acc: 0.1361\n",
      "Epoch 3/15\n",
      "23/23 [==============================] - 125s 5s/step - loss: 2.3070 - acc: 0.2668 - val_loss: 2.4265 - val_acc: 0.2670\n",
      "Epoch 4/15\n",
      "23/23 [==============================] - 121s 5s/step - loss: 2.1950 - acc: 0.3071 - val_loss: 2.2539 - val_acc: 0.2932\n",
      "Epoch 5/15\n",
      "23/23 [==============================] - 136s 6s/step - loss: 2.2184 - acc: 0.3157 - val_loss: 2.1799 - val_acc: 0.3246\n",
      "Epoch 6/15\n",
      "23/23 [==============================] - 115s 5s/step - loss: 2.0894 - acc: 0.3266 - val_loss: 2.1302 - val_acc: 0.3403\n",
      "Epoch 7/15\n",
      "23/23 [==============================] - 106s 5s/step - loss: 2.0508 - acc: 0.3397 - val_loss: 2.3468 - val_acc: 0.2723\n",
      "Epoch 8/15\n",
      "23/23 [==============================] - 108s 5s/step - loss: 1.9604 - acc: 0.3714 - val_loss: 1.9822 - val_acc: 0.4084\n",
      "Epoch 9/15\n",
      "23/23 [==============================] - 99s 4s/step - loss: 1.9089 - acc: 0.3832 - val_loss: 1.9759 - val_acc: 0.4503\n",
      "Epoch 10/15\n",
      "23/23 [==============================] - 97s 4s/step - loss: 1.9471 - acc: 0.3895 - val_loss: 1.8988 - val_acc: 0.4188\n",
      "Epoch 11/15\n",
      "23/23 [==============================] - 99s 4s/step - loss: 1.9530 - acc: 0.3620 - val_loss: 1.9758 - val_acc: 0.3770\n",
      "Epoch 12/15\n",
      "23/23 [==============================] - 94s 4s/step - loss: 1.7869 - acc: 0.4425 - val_loss: 2.0788 - val_acc: 0.3351\n",
      "Epoch 13/15\n",
      "23/23 [==============================] - 93s 4s/step - loss: 1.8482 - acc: 0.4211 - val_loss: 2.1495 - val_acc: 0.4031\n",
      "Epoch 14/15\n",
      "23/23 [==============================] - 91s 4s/step - loss: 1.7467 - acc: 0.3990 - val_loss: 2.0002 - val_acc: 0.3717\n",
      "Epoch 15/15\n",
      "23/23 [==============================] - 87s 4s/step - loss: 1.8317 - acc: 0.4112 - val_loss: 1.9454 - val_acc: 0.4607\n",
      "time for training 4802.6140989999985\n"
     ]
    },
    {
     "name": "stderr",
     "output_type": "stream",
     "text": [
      "/usr/local/lib/python3.7/site-packages/ipykernel_launcher.py:6: DeprecationWarning: time.clock has been deprecated in Python 3.3 and will be removed from Python 3.8: use time.perf_counter or time.process_time instead\n",
      "  \n"
     ]
    }
   ],
   "source": [
    "# model.compile(loss=loss, optimizer=optimizer, metrics=['accuracy'])\n",
    "\n",
    "# fits the model on batches with real-time data augmentation:\n",
    "train_t1 = time.clock()\n",
    "history = model.fit_generator(datagen.flow(train_img, classes_array, batch_size=32),\n",
    "                    samples_per_epoch=len(train_img), nb_epoch=epochs,\n",
    "                    validation_data=validation_data)\n",
    "train_t2 = time.clock()\n",
    "print('time for training',train_t2-train_t1)"
   ]
  },
  {
   "cell_type": "code",
   "execution_count": 44,
   "metadata": {},
   "outputs": [
    {
     "data": {
      "text/plain": [
       "<matplotlib.legend.Legend at 0x13289fcc0>"
      ]
     },
     "execution_count": 44,
     "metadata": {},
     "output_type": "execute_result"
    },
    {
     "data": {
      "image/png": "[encoded data removed]",
      "text/plain": [
       "<Figure size 720x432 with 1 Axes>"
      ]
     },
     "metadata": {
      "needs_background": "light"
     },
     "output_type": "display_data"
    }
   ],
   "source": [
    "hist = history.history\n",
    "\n",
    "plt.figure(figsize=(10,6))\n",
    "plt.title(\"Training Curve\") \n",
    "plt.xlabel(\"Epoch\")\n",
    "\n",
    "for measure in hist.keys():\n",
    "    color = colors[measure]\n",
    "    plt.plot(range(1,epochs+1), hist[measure], color + '-', label=measure)  # use last 2 values to draw line\n",
    "\n",
    "plt.legend(loc='upper left', scatterpoints = 1, frameon=False)"
   ]
  },
  {
   "cell_type": "markdown",
   "metadata": {},
   "source": [
    "# additional layer"
   ]
  },
  {
   "cell_type": "code",
   "execution_count": 57,
   "metadata": {},
   "outputs": [],
   "source": [
    "def createMyModel():\n",
    "    \n",
    "    model = Sequential()\n",
    "    \n",
    "    # Layer 1\n",
    "    model.add(Convolution2D(32, 3, 3, border_mode='valid', input_shape=input_shape))\n",
    "    model.add(BatchNormalization())\n",
    "    model.add(Activation('relu'))  # ReLu activation\n",
    "    model.add(MaxPooling2D(pool_size=(2, 2))) # reducing image resolution by half\n",
    "    model.add(Dropout(0.3))  # random \"deletion\" of %-portion of units in each batch\n",
    "\n",
    "    # Layer 2\n",
    "    model.add(Convolution2D(64, 3, 3, border_mode='valid'))  # input_shape is only needed in 1st layer\n",
    "    #model.add(BatchNormalization())\n",
    "    model.add(Activation('relu'))\n",
    "    #model.add(MaxPooling2D(pool_size=(2, 2)))\n",
    "    model.add(Dropout(0.3))\n",
    "\n",
    "    # Layer 3\n",
    "    model.add(Convolution2D(64, 3, 3, border_mode='valid'))  # input_shape is only needed in 1st layer\n",
    "    #model.add(BatchNormalization())\n",
    "    model.add(Activation('relu'))\n",
    "    #model.add(MaxPooling2D(pool_size=(2, 2)))\n",
    "    model.add(Dropout(0.3))\n",
    "    \n",
    "    model.add(Flatten()) # Note: Keras does automatic shape inference.\n",
    "    \n",
    "    # Full Layer\n",
    "    model.add(Dense(256))\n",
    "    model.add(Activation('relu'))\n",
    "    model.add(Dropout(0.3))\n",
    "\n",
    "    model.add(Dense(nclasses,activation='softmax'))\n",
    "    \n",
    "    return model"
   ]
  },
  {
   "cell_type": "code",
   "execution_count": 58,
   "metadata": {},
   "outputs": [
    {
     "name": "stderr",
     "output_type": "stream",
     "text": [
      "/usr/local/lib/python3.7/site-packages/ipykernel_launcher.py:6: UserWarning: Update your `Conv2D` call to the Keras 2 API: `Conv2D(32, (3, 3), input_shape=(150, 250,..., padding=\"valid\")`\n",
      "  \n",
      "/usr/local/lib/python3.7/site-packages/ipykernel_launcher.py:13: UserWarning: Update your `Conv2D` call to the Keras 2 API: `Conv2D(64, (3, 3), padding=\"valid\")`\n",
      "  del sys.path[0]\n"
     ]
    },
    {
     "name": "stdout",
     "output_type": "stream",
     "text": [
      "_________________________________________________________________\n",
      "Layer (type)                 Output Shape              Param #   \n",
      "=================================================================\n",
      "conv2d_26 (Conv2D)           (None, 148, 248, 32)      896       \n",
      "_________________________________________________________________\n",
      "batch_normalization_13 (Batc (None, 148, 248, 32)      128       \n",
      "_________________________________________________________________\n",
      "activation_38 (Activation)   (None, 148, 248, 32)      0         \n",
      "_________________________________________________________________\n",
      "max_pooling2d_13 (MaxPooling (None, 74, 124, 32)       0         \n",
      "_________________________________________________________________\n",
      "dropout_38 (Dropout)         (None, 74, 124, 32)       0         \n",
      "_________________________________________________________________\n",
      "conv2d_27 (Conv2D)           (None, 72, 122, 64)       18496     \n",
      "_________________________________________________________________\n",
      "activation_39 (Activation)   (None, 72, 122, 64)       0         \n",
      "_________________________________________________________________\n",
      "dropout_39 (Dropout)         (None, 72, 122, 64)       0         \n",
      "_________________________________________________________________\n",
      "conv2d_28 (Conv2D)           (None, 70, 120, 64)       36928     \n",
      "_________________________________________________________________\n",
      "activation_40 (Activation)   (None, 70, 120, 64)       0         \n",
      "_________________________________________________________________\n",
      "dropout_40 (Dropout)         (None, 70, 120, 64)       0         \n",
      "_________________________________________________________________\n",
      "flatten_13 (Flatten)         (None, 537600)            0         \n",
      "_________________________________________________________________\n",
      "dense_28 (Dense)             (None, 256)               137625856 \n",
      "_________________________________________________________________\n",
      "activation_41 (Activation)   (None, 256)               0         \n",
      "_________________________________________________________________\n",
      "dropout_41 (Dropout)         (None, 256)               0         \n",
      "_________________________________________________________________\n",
      "dense_29 (Dense)             (None, 30)                7710      \n",
      "=================================================================\n",
      "Total params: 137,690,014\n",
      "Trainable params: 137,689,950\n",
      "Non-trainable params: 64\n",
      "_________________________________________________________________\n"
     ]
    },
    {
     "name": "stderr",
     "output_type": "stream",
     "text": [
      "/usr/local/lib/python3.7/site-packages/ipykernel_launcher.py:20: UserWarning: Update your `Conv2D` call to the Keras 2 API: `Conv2D(64, (3, 3), padding=\"valid\")`\n"
     ]
    }
   ],
   "source": [
    "model = createMyModel()\n",
    "model.summary()"
   ]
  },
  {
   "cell_type": "code",
   "execution_count": 59,
   "metadata": {},
   "outputs": [
    {
     "name": "stderr",
     "output_type": "stream",
     "text": [
      "/usr/local/lib/python3.7/site-packages/ipykernel_launcher.py:7: DeprecationWarning: time.clock has been deprecated in Python 3.3 and will be removed from Python 3.8: use time.perf_counter or time.process_time instead\n",
      "  import sys\n",
      "/usr/local/lib/python3.7/site-packages/ipykernel_launcher.py:8: UserWarning: The `nb_epoch` argument in `fit` has been renamed `epochs`.\n",
      "  \n"
     ]
    },
    {
     "name": "stdout",
     "output_type": "stream",
     "text": [
      "Train on 760 samples, validate on 191 samples\n",
      "Epoch 1/15\n",
      "760/760 [==============================] - 146s 193ms/step - loss: 4.4047 - acc: 0.0500 - val_loss: 3.3160 - val_acc: 0.0890\n",
      "Epoch 2/15\n",
      "760/760 [==============================] - 140s 185ms/step - loss: 3.0909 - acc: 0.1079 - val_loss: 2.9545 - val_acc: 0.1466\n",
      "Epoch 3/15\n",
      "760/760 [==============================] - 117s 155ms/step - loss: 2.8171 - acc: 0.1816 - val_loss: 2.9280 - val_acc: 0.1466\n",
      "Epoch 4/15\n",
      "760/760 [==============================] - 115s 151ms/step - loss: 2.5179 - acc: 0.2539 - val_loss: 2.4716 - val_acc: 0.2513\n",
      "Epoch 5/15\n",
      "760/760 [==============================] - 125s 165ms/step - loss: 2.3534 - acc: 0.3184 - val_loss: 2.8642 - val_acc: 0.1728\n",
      "Epoch 6/15\n",
      "760/760 [==============================] - 114s 150ms/step - loss: 2.0586 - acc: 0.3934 - val_loss: 3.1894 - val_acc: 0.1623\n",
      "Epoch 7/15\n",
      "760/760 [==============================] - 114s 150ms/step - loss: 1.8125 - acc: 0.4303 - val_loss: 2.4390 - val_acc: 0.2932\n",
      "Epoch 8/15\n",
      "760/760 [==============================] - 121s 159ms/step - loss: 1.6574 - acc: 0.5171 - val_loss: 2.3868 - val_acc: 0.2880\n",
      "Epoch 9/15\n",
      "760/760 [==============================] - 114s 150ms/step - loss: 1.2298 - acc: 0.6368 - val_loss: 2.8896 - val_acc: 0.2880\n",
      "Epoch 10/15\n",
      "760/760 [==============================] - 112s 148ms/step - loss: 1.2286 - acc: 0.6395 - val_loss: 3.0415 - val_acc: 0.2723\n",
      "Epoch 11/15\n",
      "760/760 [==============================] - 115s 151ms/step - loss: 0.8856 - acc: 0.7355 - val_loss: 3.1971 - val_acc: 0.2618\n",
      "Epoch 12/15\n",
      "760/760 [==============================] - 114s 151ms/step - loss: 0.8669 - acc: 0.7645 - val_loss: 3.1566 - val_acc: 0.2775\n",
      "Epoch 13/15\n",
      "760/760 [==============================] - 113s 149ms/step - loss: 0.5469 - acc: 0.8553 - val_loss: 3.1468 - val_acc: 0.2932\n",
      "Epoch 14/15\n",
      "760/760 [==============================] - 116s 153ms/step - loss: 0.4176 - acc: 0.8803 - val_loss: 3.5040 - val_acc: 0.2880\n",
      "Epoch 15/15\n",
      "760/760 [==============================] - 113s 149ms/step - loss: 0.3723 - acc: 0.8855 - val_loss: 3.0504 - val_acc: 0.3455\n",
      "time for training 5951.220370999999\n"
     ]
    },
    {
     "name": "stderr",
     "output_type": "stream",
     "text": [
      "/usr/local/lib/python3.7/site-packages/ipykernel_launcher.py:9: DeprecationWarning: time.clock has been deprecated in Python 3.3 and will be removed from Python 3.8: use time.perf_counter or time.process_time instead\n",
      "  if __name__ == '__main__':\n"
     ]
    }
   ],
   "source": [
    "model.compile(loss=loss, optimizer=optimizer, metrics=['accuracy'])\n",
    "\n",
    "# show result on Test Data while training \n",
    "# we use test data as validation data to see direct results (usually NOT RECOMMENDED due to overfitting to the problem!)\n",
    "validation_data = (test_img, target_test)\n",
    "\n",
    "train_t1 = time.clock()\n",
    "history = model.fit(train_img, target_train, batch_size=32, nb_epoch=epochs, validation_data=validation_data)\n",
    "train_t2 = time.clock()\n",
    "print('time for training',train_t2-train_t1)\n"
   ]
  },
  {
   "cell_type": "code",
   "execution_count": 60,
   "metadata": {},
   "outputs": [
    {
     "data": {
      "text/plain": [
       "<matplotlib.legend.Legend at 0x1357de240>"
      ]
     },
     "execution_count": 60,
     "metadata": {},
     "output_type": "execute_result"
    },
    {
     "data": {
      "image/png": "[encoded data removed]",
      "text/plain": [
       "<Figure size 720x432 with 1 Axes>"
      ]
     },
     "metadata": {
      "needs_background": "light"
     },
     "output_type": "display_data"
    }
   ],
   "source": [
    "hist = history.history\n",
    "\n",
    "plt.figure(figsize=(10,6))\n",
    "plt.title(\"Training Curve\") \n",
    "plt.xlabel(\"Epoch\")\n",
    "\n",
    "for measure in hist.keys():\n",
    "    color = colors[measure]\n",
    "    plt.plot(range(1,epochs+1), hist[measure], color + '-', label=measure)  # use last 2 values to draw line\n",
    "\n",
    "plt.legend(loc='upper left', scatterpoints = 1, frameon=False)"
   ]
  },
  {
   "cell_type": "code",
   "execution_count": 61,
   "metadata": {},
   "outputs": [
    {
     "name": "stderr",
     "output_type": "stream",
     "text": [
      "/usr/local/lib/python3.7/site-packages/ipykernel_launcher.py:1: DeprecationWarning: time.clock has been deprecated in Python 3.3 and will be removed from Python 3.8: use time.perf_counter or time.process_time instead\n",
      "  \"\"\"Entry point for launching an IPython kernel.\n",
      "/usr/local/lib/python3.7/site-packages/ipykernel_launcher.py:4: UserWarning: The semantics of the Keras 2 argument `steps_per_epoch` is not the same as the Keras 1 argument `samples_per_epoch`. `steps_per_epoch` is the number of batches to draw from the generator at each epoch. Basically steps_per_epoch = samples_per_epoch/batch_size. Similarly `nb_val_samples`->`validation_steps` and `val_samples`->`steps` arguments have changed. Update your method calls accordingly.\n",
      "  after removing the cwd from sys.path.\n",
      "/usr/local/lib/python3.7/site-packages/ipykernel_launcher.py:4: UserWarning: Update your `fit_generator` call to the Keras 2 API: `fit_generator(<keras_pre..., validation_data=(array([[[..., steps_per_epoch=23, epochs=15)`\n",
      "  after removing the cwd from sys.path.\n"
     ]
    },
    {
     "name": "stdout",
     "output_type": "stream",
     "text": [
      "Epoch 1/15\n",
      "23/23 [==============================] - 143s 6s/step - loss: 2.7627 - acc: 0.2378 - val_loss: 2.4530 - val_acc: 0.2775\n",
      "Epoch 2/15\n",
      "23/23 [==============================] - 138s 6s/step - loss: 2.3481 - acc: 0.2849 - val_loss: 2.2241 - val_acc: 0.3508\n",
      "Epoch 3/15\n",
      "23/23 [==============================] - 162s 7s/step - loss: 2.3674 - acc: 0.2853 - val_loss: 2.2569 - val_acc: 0.3351\n",
      "Epoch 4/15\n",
      "23/23 [==============================] - 161s 7s/step - loss: 2.2010 - acc: 0.3138 - val_loss: 2.2999 - val_acc: 0.3560\n",
      "Epoch 5/15\n",
      "23/23 [==============================] - 152s 7s/step - loss: 2.2397 - acc: 0.3061 - val_loss: 2.0651 - val_acc: 0.3927\n",
      "Epoch 6/15\n",
      "23/23 [==============================] - 148s 6s/step - loss: 2.1582 - acc: 0.2994 - val_loss: 2.1436 - val_acc: 0.3665\n",
      "Epoch 7/15\n",
      "23/23 [==============================] - 166s 7s/step - loss: 2.1589 - acc: 0.3592 - val_loss: 2.1076 - val_acc: 0.4031\n",
      "Epoch 8/15\n",
      "23/23 [==============================] - 156s 7s/step - loss: 2.1720 - acc: 0.3397 - val_loss: 2.1735 - val_acc: 0.3717\n",
      "Epoch 9/15\n",
      "23/23 [==============================] - 155s 7s/step - loss: 2.0879 - acc: 0.3338 - val_loss: 2.0253 - val_acc: 0.3822\n",
      "Epoch 10/15\n",
      "23/23 [==============================] - 135s 6s/step - loss: 1.9864 - acc: 0.3800 - val_loss: 2.0425 - val_acc: 0.3927\n",
      "Epoch 11/15\n",
      "23/23 [==============================] - 118s 5s/step - loss: 2.0757 - acc: 0.3533 - val_loss: 1.7757 - val_acc: 0.4712\n",
      "Epoch 12/15\n",
      "23/23 [==============================] - 113s 5s/step - loss: 1.9077 - acc: 0.3782 - val_loss: 2.0337 - val_acc: 0.3874\n",
      "Epoch 13/15\n",
      "23/23 [==============================] - 119s 5s/step - loss: 1.9908 - acc: 0.3728 - val_loss: 2.0262 - val_acc: 0.4136\n",
      "Epoch 14/15\n",
      "23/23 [==============================] - 112s 5s/step - loss: 1.9662 - acc: 0.3849 - val_loss: 1.9324 - val_acc: 0.3874\n",
      "Epoch 15/15\n",
      "23/23 [==============================] - 113s 5s/step - loss: 1.8963 - acc: 0.3755 - val_loss: 1.8454 - val_acc: 0.4398\n",
      "time for training 6384.091426999996\n"
     ]
    },
    {
     "name": "stderr",
     "output_type": "stream",
     "text": [
      "/usr/local/lib/python3.7/site-packages/ipykernel_launcher.py:5: DeprecationWarning: time.clock has been deprecated in Python 3.3 and will be removed from Python 3.8: use time.perf_counter or time.process_time instead\n",
      "  \"\"\"\n"
     ]
    }
   ],
   "source": [
    "train_t1 = time.clock()\n",
    "history = model.fit_generator(datagen.flow(train_img, classes_array, batch_size=32),\n",
    "                    samples_per_epoch=len(train_img), nb_epoch=epochs,\n",
    "                    validation_data=validation_data)\n",
    "train_t2 = time.clock()\n",
    "print('time for training',train_t2-train_t1)"
   ]
  },
  {
   "cell_type": "code",
   "execution_count": 62,
   "metadata": {},
   "outputs": [
    {
     "data": {
      "text/plain": [
       "<matplotlib.legend.Legend at 0x134b9f588>"
      ]
     },
     "execution_count": 62,
     "metadata": {},
     "output_type": "execute_result"
    },
    {
     "data": {
      "image/png": "[encoded data removed]",
      "text/plain": [
       "<Figure size 720x432 with 1 Axes>"
      ]
     },
     "metadata": {
      "needs_background": "light"
     },
     "output_type": "display_data"
    }
   ],
   "source": [
    "hist = history.history\n",
    "\n",
    "plt.figure(figsize=(10,6))\n",
    "plt.title(\"Training Curve\") \n",
    "plt.xlabel(\"Epoch\")\n",
    "\n",
    "for measure in hist.keys():\n",
    "    color = colors[measure]\n",
    "    plt.plot(range(1,epochs+1), hist[measure], color + '-', label=measure)  # use last 2 values to draw line\n",
    "\n",
    "plt.legend(loc='upper left', scatterpoints = 1, frameon=False)"
   ]
  },
  {
   "cell_type": "markdown",
   "metadata": {},
   "source": [
    "augmented 32-64 with compiling from scratch"
   ]
  },
  {
   "cell_type": "code",
   "execution_count": 80,
   "metadata": {},
   "outputs": [
    {
     "name": "stderr",
     "output_type": "stream",
     "text": [
      "/usr/local/lib/python3.7/site-packages/ipykernel_launcher.py:4: DeprecationWarning: time.clock has been deprecated in Python 3.3 and will be removed from Python 3.8: use time.perf_counter or time.process_time instead\n",
      "  after removing the cwd from sys.path.\n",
      "/usr/local/lib/python3.7/site-packages/ipykernel_launcher.py:7: UserWarning: The semantics of the Keras 2 argument `steps_per_epoch` is not the same as the Keras 1 argument `samples_per_epoch`. `steps_per_epoch` is the number of batches to draw from the generator at each epoch. Basically steps_per_epoch = samples_per_epoch/batch_size. Similarly `nb_val_samples`->`validation_steps` and `val_samples`->`steps` arguments have changed. Update your method calls accordingly.\n",
      "  import sys\n",
      "/usr/local/lib/python3.7/site-packages/ipykernel_launcher.py:7: UserWarning: Update your `fit_generator` call to the Keras 2 API: `fit_generator(<keras_pre..., validation_data=(array([[[..., steps_per_epoch=23, epochs=15)`\n",
      "  import sys\n"
     ]
    },
    {
     "name": "stdout",
     "output_type": "stream",
     "text": [
      "Epoch 1/15\n",
      "23/23 [==============================] - 118s 5s/step - loss: 15.1287 - acc: 0.0258 - val_loss: 15.6118 - val_acc: 0.0314\n",
      "Epoch 2/15\n",
      "23/23 [==============================] - 110s 5s/step - loss: 15.7167 - acc: 0.0249 - val_loss: 15.6118 - val_acc: 0.0314\n",
      "Epoch 3/15\n",
      "23/23 [==============================] - 128s 6s/step - loss: 15.7386 - acc: 0.0235 - val_loss: 15.6118 - val_acc: 0.0314\n",
      "Epoch 4/15\n",
      "23/23 [==============================] - 115s 5s/step - loss: 15.7167 - acc: 0.0249 - val_loss: 15.6118 - val_acc: 0.0314\n",
      "Epoch 5/15\n",
      "23/23 [==============================] - 111s 5s/step - loss: 15.7605 - acc: 0.0222 - val_loss: 15.6118 - val_acc: 0.0314\n",
      "Epoch 6/15\n",
      "23/23 [==============================] - 134s 6s/step - loss: 15.6324 - acc: 0.0272 - val_loss: 15.6118 - val_acc: 0.0314\n",
      "Epoch 7/15\n",
      "23/23 [==============================] - 201s 9s/step - loss: 15.5704 - acc: 0.0340 - val_loss: 15.6118 - val_acc: 0.0314\n",
      "Epoch 8/15\n",
      "23/23 [==============================] - 138s 6s/step - loss: 10.3163 - acc: 0.0494 - val_loss: 3.2556 - val_acc: 0.0838\n",
      "Epoch 9/15\n",
      "23/23 [==============================] - 177s 8s/step - loss: 3.0463 - acc: 0.1269 - val_loss: 3.0061 - val_acc: 0.1466\n",
      "Epoch 10/15\n",
      "23/23 [==============================] - 160s 7s/step - loss: 2.8470 - acc: 0.1395 - val_loss: 2.8031 - val_acc: 0.1728\n",
      "Epoch 11/15\n",
      "23/23 [==============================] - 120s 5s/step - loss: 2.6737 - acc: 0.2079 - val_loss: 2.8041 - val_acc: 0.1832\n",
      "Epoch 12/15\n",
      "23/23 [==============================] - 161s 7s/step - loss: 2.5747 - acc: 0.2124 - val_loss: 2.8536 - val_acc: 0.1675\n",
      "Epoch 13/15\n",
      "23/23 [==============================] - 156s 7s/step - loss: 2.5367 - acc: 0.2016 - val_loss: 3.0333 - val_acc: 0.2094\n",
      "Epoch 14/15\n",
      "23/23 [==============================] - 136s 6s/step - loss: 2.5437 - acc: 0.2292 - val_loss: 2.6987 - val_acc: 0.2304\n",
      "Epoch 15/15\n",
      "23/23 [==============================] - 135s 6s/step - loss: 2.2664 - acc: 0.2659 - val_loss: 2.5612 - val_acc: 0.2199\n",
      "time for training 5882.282236999999\n"
     ]
    },
    {
     "name": "stderr",
     "output_type": "stream",
     "text": [
      "/usr/local/lib/python3.7/site-packages/ipykernel_launcher.py:8: DeprecationWarning: time.clock has been deprecated in Python 3.3 and will be removed from Python 3.8: use time.perf_counter or time.process_time instead\n",
      "  \n"
     ]
    }
   ],
   "source": [
    "model.compile(loss=loss, optimizer=optimizer, metrics=['accuracy'])\n",
    "\n",
    "# fits the model on batches with real-time data augmentation:\n",
    "train_t1 = time.clock()\n",
    "history = model.fit_generator(datagen.flow(train_img, classes_array, batch_size=32),\n",
    "                    samples_per_epoch=len(train_img), nb_epoch=15,\n",
    "                    validation_data=validation_data)\n",
    "train_t2 = time.clock()\n",
    "print('time for training',train_t2-train_t1)"
   ]
  },
  {
   "cell_type": "markdown",
   "metadata": {},
   "source": [
    "augmented 32-64compiled 2 times"
   ]
  },
  {
   "cell_type": "code",
   "execution_count": 82,
   "metadata": {},
   "outputs": [
    {
     "name": "stderr",
     "output_type": "stream",
     "text": [
      "/usr/local/lib/python3.7/site-packages/ipykernel_launcher.py:1: DeprecationWarning: time.clock has been deprecated in Python 3.3 and will be removed from Python 3.8: use time.perf_counter or time.process_time instead\n",
      "  \"\"\"Entry point for launching an IPython kernel.\n",
      "/usr/local/lib/python3.7/site-packages/ipykernel_launcher.py:4: UserWarning: The semantics of the Keras 2 argument `steps_per_epoch` is not the same as the Keras 1 argument `samples_per_epoch`. `steps_per_epoch` is the number of batches to draw from the generator at each epoch. Basically steps_per_epoch = samples_per_epoch/batch_size. Similarly `nb_val_samples`->`validation_steps` and `val_samples`->`steps` arguments have changed. Update your method calls accordingly.\n",
      "  after removing the cwd from sys.path.\n",
      "/usr/local/lib/python3.7/site-packages/ipykernel_launcher.py:4: UserWarning: Update your `fit_generator` call to the Keras 2 API: `fit_generator(<keras_pre..., validation_data=(array([[[..., steps_per_epoch=23, epochs=15)`\n",
      "  after removing the cwd from sys.path.\n"
     ]
    },
    {
     "name": "stdout",
     "output_type": "stream",
     "text": [
      "Epoch 1/15\n",
      "23/23 [==============================] - 119s 5s/step - loss: 2.3178 - acc: 0.2772 - val_loss: 2.3959 - val_acc: 0.2513\n",
      "Epoch 2/15\n",
      "23/23 [==============================] - 145s 6s/step - loss: 2.2374 - acc: 0.2753 - val_loss: 2.1898 - val_acc: 0.3298\n",
      "Epoch 3/15\n",
      "23/23 [==============================] - 141s 6s/step - loss: 2.2669 - acc: 0.2740 - val_loss: 2.1000 - val_acc: 0.3613\n",
      "Epoch 4/15\n",
      "23/23 [==============================] - 140s 6s/step - loss: 2.1165 - acc: 0.3378 - val_loss: 2.2235 - val_acc: 0.3351\n",
      "Epoch 5/15\n",
      "23/23 [==============================] - 135s 6s/step - loss: 2.1766 - acc: 0.2931 - val_loss: 2.5182 - val_acc: 0.2042\n",
      "Epoch 6/15\n",
      "23/23 [==============================] - 139s 6s/step - loss: 2.1992 - acc: 0.3107 - val_loss: 2.0317 - val_acc: 0.3665\n",
      "Epoch 7/15\n",
      "23/23 [==============================] - 136s 6s/step - loss: 2.1839 - acc: 0.3008 - val_loss: 2.2145 - val_acc: 0.3194\n",
      "Epoch 8/15\n",
      "23/23 [==============================] - 173s 8s/step - loss: 2.1240 - acc: 0.3302 - val_loss: 2.0857 - val_acc: 0.3560\n",
      "Epoch 9/15\n",
      "23/23 [==============================] - 122s 5s/step - loss: 1.9572 - acc: 0.3849 - val_loss: 1.9945 - val_acc: 0.3665\n",
      "Epoch 10/15\n",
      "23/23 [==============================] - 103s 4s/step - loss: 2.0555 - acc: 0.3370 - val_loss: 2.2904 - val_acc: 0.3194\n",
      "Epoch 11/15\n",
      "23/23 [==============================] - 154s 7s/step - loss: 1.9892 - acc: 0.3342 - val_loss: 2.0917 - val_acc: 0.3194\n",
      "Epoch 12/15\n",
      "23/23 [==============================] - 129s 6s/step - loss: 1.9387 - acc: 0.3641 - val_loss: 2.1609 - val_acc: 0.2984\n",
      "Epoch 13/15\n",
      "23/23 [==============================] - 134s 6s/step - loss: 1.9591 - acc: 0.3736 - val_loss: 2.0509 - val_acc: 0.4084\n",
      "Epoch 14/15\n",
      "23/23 [==============================] - 108s 5s/step - loss: 1.9691 - acc: 0.3550 - val_loss: 1.8763 - val_acc: 0.3822\n",
      "Epoch 15/15\n",
      "23/23 [==============================] - 108s 5s/step - loss: 1.8630 - acc: 0.3918 - val_loss: 1.8754 - val_acc: 0.4398\n",
      "time for training 5790.665918999999\n"
     ]
    },
    {
     "name": "stderr",
     "output_type": "stream",
     "text": [
      "/usr/local/lib/python3.7/site-packages/ipykernel_launcher.py:5: DeprecationWarning: time.clock has been deprecated in Python 3.3 and will be removed from Python 3.8: use time.perf_counter or time.process_time instead\n",
      "  \"\"\"\n"
     ]
    }
   ],
   "source": [
    "train_t1 = time.clock()\n",
    "history = model.fit_generator(datagen.flow(train_img, classes_array, batch_size=32),\n",
    "                    samples_per_epoch=len(train_img), nb_epoch=15,\n",
    "                    validation_data=validation_data)\n",
    "train_t2 = time.clock()\n",
    "print('time for training',train_t2-train_t1)"
   ]
  },
  {
   "cell_type": "code",
   "execution_count": 83,
   "metadata": {},
   "outputs": [
    {
     "data": {
      "text/plain": [
       "<matplotlib.legend.Legend at 0x1ddc28748>"
      ]
     },
     "execution_count": 83,
     "metadata": {},
     "output_type": "execute_result"
    },
    {
     "data": {
      "image/png": "[encoded data removed]",
      "text/plain": [
       "<Figure size 720x432 with 1 Axes>"
      ]
     },
     "metadata": {
      "needs_background": "light"
     },
     "output_type": "display_data"
    }
   ],
   "source": [
    "hist = history.history\n",
    "\n",
    "plt.figure(figsize=(10,6))\n",
    "plt.title(\"Training Curve\") \n",
    "plt.xlabel(\"Epoch\")\n",
    "\n",
    "for measure in hist.keys():\n",
    "    color = colors[measure]\n",
    "    plt.plot(range(1,epochs+1), hist[measure], color + '-', label=measure)  # use last 2 values to draw line\n",
    "\n",
    "plt.legend(loc='upper left', scatterpoints = 1, frameon=False)"
   ]
  },
  {
   "cell_type": "code",
   "execution_count": null,
   "metadata": {},
   "outputs": [],
   "source": []
  }
 ],
 "metadata": {
  "kernelspec": {
   "display_name": "Python 3",
   "language": "python",
   "name": "python3"
  },
  "language_info": {
   "codemirror_mode": {
    "name": "ipython",
    "version": 3
   },
   "file_extension": ".py",
   "mimetype": "text/x-python",
   "name": "python",
   "nbconvert_exporter": "python",
   "pygments_lexer": "ipython3",
   "version": "3.7.2"
  }
 },
 "nbformat": 4,
 "nbformat_minor": 2
}
